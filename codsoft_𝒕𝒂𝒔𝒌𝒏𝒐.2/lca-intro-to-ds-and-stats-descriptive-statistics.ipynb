{
 "cells": [
  {
   "cell_type": "code",
   "execution_count": 1,
   "id": "c32db268",
   "metadata": {
    "_execution_state": "idle",
    "_uuid": "051d70d956493feee0c6d64651c6a088724dca2a",
    "execution": {
     "iopub.execute_input": "2023-11-03T14:10:30.957685Z",
     "iopub.status.busy": "2023-11-03T14:10:30.955318Z",
     "iopub.status.idle": "2023-11-03T14:10:32.203354Z",
     "shell.execute_reply": "2023-11-03T14:10:32.201366Z"
    },
    "papermill": {
     "duration": 1.258513,
     "end_time": "2023-11-03T14:10:32.206230",
     "exception": false,
     "start_time": "2023-11-03T14:10:30.947717",
     "status": "completed"
    },
    "tags": []
   },
   "outputs": [
    {
     "name": "stderr",
     "output_type": "stream",
     "text": [
      "── \u001b[1mAttaching core tidyverse packages\u001b[22m ──────────────────────── tidyverse 2.0.0 ──\n",
      "\u001b[32m✔\u001b[39m \u001b[34mdplyr    \u001b[39m 1.1.2     \u001b[32m✔\u001b[39m \u001b[34mreadr    \u001b[39m 2.1.4\n",
      "\u001b[32m✔\u001b[39m \u001b[34mforcats  \u001b[39m 1.0.0     \u001b[32m✔\u001b[39m \u001b[34mstringr  \u001b[39m 1.5.0\n",
      "\u001b[32m✔\u001b[39m \u001b[34mggplot2  \u001b[39m 3.4.2     \u001b[32m✔\u001b[39m \u001b[34mtibble   \u001b[39m 3.2.1\n",
      "\u001b[32m✔\u001b[39m \u001b[34mlubridate\u001b[39m 1.9.2     \u001b[32m✔\u001b[39m \u001b[34mtidyr    \u001b[39m 1.3.0\n",
      "\u001b[32m✔\u001b[39m \u001b[34mpurrr    \u001b[39m 1.0.1     \n",
      "── \u001b[1mConflicts\u001b[22m ────────────────────────────────────────── tidyverse_conflicts() ──\n",
      "\u001b[31m✖\u001b[39m \u001b[34mdplyr\u001b[39m::\u001b[32mfilter()\u001b[39m masks \u001b[34mstats\u001b[39m::filter()\n",
      "\u001b[31m✖\u001b[39m \u001b[34mdplyr\u001b[39m::\u001b[32mlag()\u001b[39m    masks \u001b[34mstats\u001b[39m::lag()\n",
      "\u001b[36mℹ\u001b[39m Use the conflicted package (\u001b[3m\u001b[34m<http://conflicted.r-lib.org/>\u001b[39m\u001b[23m) to force all conflicts to become errors\n"
     ]
    },
    {
     "data": {
      "text/html": [
       "'iris-flower-dataset'"
      ],
      "text/latex": [
       "'iris-flower-dataset'"
      ],
      "text/markdown": [
       "'iris-flower-dataset'"
      ],
      "text/plain": [
       "[1] \"iris-flower-dataset\""
      ]
     },
     "metadata": {},
     "output_type": "display_data"
    }
   ],
   "source": [
    "# This R environment comes with many helpful analytics packages installed\n",
    "# It is defined by the kaggle/rstats Docker image: https://github.com/kaggle/docker-rstats\n",
    "# For example, here's a helpful package to load\n",
    "\n",
    "library(tidyverse) # metapackage of all tidyverse packages\n",
    "\n",
    "# Input data files are available in the read-only \"../input/\" directory\n",
    "# For example, running this (by clicking run or pressing Shift+Enter) will list all files under the input directory\n",
    "\n",
    "list.files(path = \"../input\")\n",
    "\n",
    "# You can write up to 20GB to the current directory (/kaggle/working/) that gets preserved as output when you create a version using \"Save & Run All\" \n",
    "# You can also write temporary files to /kaggle/temp/, but they won't be saved outside of the current session"
   ]
  },
  {
   "cell_type": "markdown",
   "id": "a08c46be",
   "metadata": {
    "papermill": {
     "duration": 0.004754,
     "end_time": "2023-11-03T14:10:32.215962",
     "exception": false,
     "start_time": "2023-11-03T14:10:32.211208",
     "status": "completed"
    },
    "tags": []
   },
   "source": [
    "This notebook was created for a High School Intro to Data Science and Statistics course taught by Zachary Fuller.\n",
    "\n",
    "For this assignment, please follow the steps in the notebook. When you are finished, you may either make the notebook public and email me a link, or print out a pdf of the notebook after running your code.\n",
    "\n",
    "Learning Outcomes (not including coding):\n",
    "* Mean, Median, Mode, Quartiles\n",
    "* Standard Deviation, IQR\n",
    "* Box Plots for comparing Distributions"
   ]
  },
  {
   "cell_type": "markdown",
   "id": "b21c1ed3",
   "metadata": {
    "papermill": {
     "duration": 0.005032,
     "end_time": "2023-11-03T14:10:32.225978",
     "exception": false,
     "start_time": "2023-11-03T14:10:32.220946",
     "status": "completed"
    },
    "tags": []
   },
   "source": [
    "To start, we need to read the data into the notebook. There are several ways to do this. My personal favorite is to use fread() from library(data.table). It's my favorite because I can use it for almost anything, and it runs reasonably fast when working with large datasets. \n",
    "A popular option is read_csv() from readr."
   ]
  },
  {
   "cell_type": "code",
   "execution_count": 2,
   "id": "d49bb0cc",
   "metadata": {
    "execution": {
     "iopub.execute_input": "2023-11-03T14:10:32.274736Z",
     "iopub.status.busy": "2023-11-03T14:10:32.237755Z",
     "iopub.status.idle": "2023-11-03T14:10:32.483162Z",
     "shell.execute_reply": "2023-11-03T14:10:32.481195Z"
    },
    "papermill": {
     "duration": 0.255051,
     "end_time": "2023-11-03T14:10:32.485795",
     "exception": false,
     "start_time": "2023-11-03T14:10:32.230744",
     "status": "completed"
    },
    "tags": []
   },
   "outputs": [
    {
     "name": "stderr",
     "output_type": "stream",
     "text": [
      "\n",
      "Attaching package: ‘data.table’\n",
      "\n",
      "\n",
      "The following objects are masked from ‘package:lubridate’:\n",
      "\n",
      "    hour, isoweek, mday, minute, month, quarter, second, wday, week,\n",
      "    yday, year\n",
      "\n",
      "\n",
      "The following objects are masked from ‘package:dplyr’:\n",
      "\n",
      "    between, first, last\n",
      "\n",
      "\n",
      "The following object is masked from ‘package:purrr’:\n",
      "\n",
      "    transpose\n",
      "\n",
      "\n"
     ]
    },
    {
     "data": {
      "text/html": [
       "<table class=\"dataframe\">\n",
       "<caption>A data.table: 6 × 5</caption>\n",
       "<thead>\n",
       "\t<tr><th scope=col>sepal_length</th><th scope=col>sepal_width</th><th scope=col>petal_length</th><th scope=col>petal_width</th><th scope=col>species</th></tr>\n",
       "\t<tr><th scope=col>&lt;dbl&gt;</th><th scope=col>&lt;dbl&gt;</th><th scope=col>&lt;dbl&gt;</th><th scope=col>&lt;dbl&gt;</th><th scope=col>&lt;chr&gt;</th></tr>\n",
       "</thead>\n",
       "<tbody>\n",
       "\t<tr><td>5.1</td><td>3.5</td><td>1.4</td><td>0.2</td><td>Iris-setosa</td></tr>\n",
       "\t<tr><td>4.9</td><td>3.0</td><td>1.4</td><td>0.2</td><td>Iris-setosa</td></tr>\n",
       "\t<tr><td>4.7</td><td>3.2</td><td>1.3</td><td>0.2</td><td>Iris-setosa</td></tr>\n",
       "\t<tr><td>4.6</td><td>3.1</td><td>1.5</td><td>0.2</td><td>Iris-setosa</td></tr>\n",
       "\t<tr><td>5.0</td><td>3.6</td><td>1.4</td><td>0.2</td><td>Iris-setosa</td></tr>\n",
       "\t<tr><td>5.4</td><td>3.9</td><td>1.7</td><td>0.4</td><td>Iris-setosa</td></tr>\n",
       "</tbody>\n",
       "</table>\n"
      ],
      "text/latex": [
       "A data.table: 6 × 5\n",
       "\\begin{tabular}{lllll}\n",
       " sepal\\_length & sepal\\_width & petal\\_length & petal\\_width & species\\\\\n",
       " <dbl> & <dbl> & <dbl> & <dbl> & <chr>\\\\\n",
       "\\hline\n",
       "\t 5.1 & 3.5 & 1.4 & 0.2 & Iris-setosa\\\\\n",
       "\t 4.9 & 3.0 & 1.4 & 0.2 & Iris-setosa\\\\\n",
       "\t 4.7 & 3.2 & 1.3 & 0.2 & Iris-setosa\\\\\n",
       "\t 4.6 & 3.1 & 1.5 & 0.2 & Iris-setosa\\\\\n",
       "\t 5.0 & 3.6 & 1.4 & 0.2 & Iris-setosa\\\\\n",
       "\t 5.4 & 3.9 & 1.7 & 0.4 & Iris-setosa\\\\\n",
       "\\end{tabular}\n"
      ],
      "text/markdown": [
       "\n",
       "A data.table: 6 × 5\n",
       "\n",
       "| sepal_length &lt;dbl&gt; | sepal_width &lt;dbl&gt; | petal_length &lt;dbl&gt; | petal_width &lt;dbl&gt; | species &lt;chr&gt; |\n",
       "|---|---|---|---|---|\n",
       "| 5.1 | 3.5 | 1.4 | 0.2 | Iris-setosa |\n",
       "| 4.9 | 3.0 | 1.4 | 0.2 | Iris-setosa |\n",
       "| 4.7 | 3.2 | 1.3 | 0.2 | Iris-setosa |\n",
       "| 4.6 | 3.1 | 1.5 | 0.2 | Iris-setosa |\n",
       "| 5.0 | 3.6 | 1.4 | 0.2 | Iris-setosa |\n",
       "| 5.4 | 3.9 | 1.7 | 0.4 | Iris-setosa |\n",
       "\n"
      ],
      "text/plain": [
       "  sepal_length sepal_width petal_length petal_width species    \n",
       "1 5.1          3.5         1.4          0.2         Iris-setosa\n",
       "2 4.9          3.0         1.4          0.2         Iris-setosa\n",
       "3 4.7          3.2         1.3          0.2         Iris-setosa\n",
       "4 4.6          3.1         1.5          0.2         Iris-setosa\n",
       "5 5.0          3.6         1.4          0.2         Iris-setosa\n",
       "6 5.4          3.9         1.7          0.4         Iris-setosa"
      ]
     },
     "metadata": {},
     "output_type": "display_data"
    },
    {
     "name": "stdout",
     "output_type": "stream",
     "text": [
      "Classes ‘data.table’ and 'data.frame':\t150 obs. of  5 variables:\n",
      " $ sepal_length: num  5.1 4.9 4.7 4.6 5 5.4 4.6 5 4.4 4.9 ...\n",
      " $ sepal_width : num  3.5 3 3.2 3.1 3.6 3.9 3.4 3.4 2.9 3.1 ...\n",
      " $ petal_length: num  1.4 1.4 1.3 1.5 1.4 1.7 1.4 1.5 1.4 1.5 ...\n",
      " $ petal_width : num  0.2 0.2 0.2 0.2 0.2 0.4 0.3 0.2 0.2 0.1 ...\n",
      " $ species     : chr  \"Iris-setosa\" \"Iris-setosa\" \"Iris-setosa\" \"Iris-setosa\" ...\n",
      " - attr(*, \".internal.selfref\")=<externalptr> \n"
     ]
    },
    {
     "data": {
      "text/plain": [
       "  sepal_length    sepal_width     petal_length    petal_width   \n",
       " Min.   :4.300   Min.   :2.000   Min.   :1.000   Min.   :0.100  \n",
       " 1st Qu.:5.100   1st Qu.:2.800   1st Qu.:1.600   1st Qu.:0.300  \n",
       " Median :5.800   Median :3.000   Median :4.350   Median :1.300  \n",
       " Mean   :5.843   Mean   :3.054   Mean   :3.759   Mean   :1.199  \n",
       " 3rd Qu.:6.400   3rd Qu.:3.300   3rd Qu.:5.100   3rd Qu.:1.800  \n",
       " Max.   :7.900   Max.   :4.400   Max.   :6.900   Max.   :2.500  \n",
       "   species         \n",
       " Length:150        \n",
       " Class :character  \n",
       " Mode  :character  \n",
       "                   \n",
       "                   \n",
       "                   "
      ]
     },
     "metadata": {},
     "output_type": "display_data"
    }
   ],
   "source": [
    "#Copy the path to the iris-flower-dataset and read it into the notebook with the function of your choice.\n",
    "#Don't forget to assign the dataset a name when you read it in.\n",
    "library(data.table)\n",
    "iris <- fread(\"/kaggle/input/iris-flower-dataset/IRIS.csv\")\n",
    "\n",
    "#Check the structure of the notebook using 2 different functions, head(), and str()\n",
    "head(iris)\n",
    "str(iris)\n",
    "\n",
    "#next, use summary() to get some useful information about the dataset.\n",
    "summary(iris)"
   ]
  },
  {
   "cell_type": "markdown",
   "id": "dc9a0e8f",
   "metadata": {
    "papermill": {
     "duration": 0.005664,
     "end_time": "2023-11-03T14:10:32.497140",
     "exception": false,
     "start_time": "2023-11-03T14:10:32.491476",
     "status": "completed"
    },
    "tags": []
   },
   "source": [
    "Edit this text to answer the following questions. Your answers should be based off of the output of the previous code.\n",
    "What are types of data in each column?\n",
    "\n",
    "\n",
    "How many rows of data are there?\n",
    "\n",
    "\n",
    "What are the species of iris in this dataset?"
   ]
  },
  {
   "cell_type": "markdown",
   "id": "a5360128",
   "metadata": {
    "papermill": {
     "duration": 0.006024,
     "end_time": "2023-11-03T14:10:32.508815",
     "exception": false,
     "start_time": "2023-11-03T14:10:32.502791",
     "status": "completed"
    },
    "tags": []
   },
   "source": [
    "Next up, I want you to compare the different species of iris. \n",
    "There are a lot of ways to do this, but today I want you to start by separating the data into 3 datasets."
   ]
  },
  {
   "cell_type": "code",
   "execution_count": 3,
   "id": "9d7f5a53",
   "metadata": {
    "execution": {
     "iopub.execute_input": "2023-11-03T14:10:32.524275Z",
     "iopub.status.busy": "2023-11-03T14:10:32.522473Z",
     "iopub.status.idle": "2023-11-03T14:10:32.563601Z",
     "shell.execute_reply": "2023-11-03T14:10:32.561596Z"
    },
    "papermill": {
     "duration": 0.051704,
     "end_time": "2023-11-03T14:10:32.566357",
     "exception": false,
     "start_time": "2023-11-03T14:10:32.514653",
     "status": "completed"
    },
    "tags": []
   },
   "outputs": [
    {
     "data": {
      "text/html": [
       "<table class=\"dataframe\">\n",
       "<caption>A data.table: 6 × 5</caption>\n",
       "<thead>\n",
       "\t<tr><th scope=col>sepal_length</th><th scope=col>sepal_width</th><th scope=col>petal_length</th><th scope=col>petal_width</th><th scope=col>species</th></tr>\n",
       "\t<tr><th scope=col>&lt;dbl&gt;</th><th scope=col>&lt;dbl&gt;</th><th scope=col>&lt;dbl&gt;</th><th scope=col>&lt;dbl&gt;</th><th scope=col>&lt;chr&gt;</th></tr>\n",
       "</thead>\n",
       "<tbody>\n",
       "\t<tr><td>5.1</td><td>3.5</td><td>1.4</td><td>0.2</td><td>Iris-setosa</td></tr>\n",
       "\t<tr><td>4.9</td><td>3.0</td><td>1.4</td><td>0.2</td><td>Iris-setosa</td></tr>\n",
       "\t<tr><td>4.7</td><td>3.2</td><td>1.3</td><td>0.2</td><td>Iris-setosa</td></tr>\n",
       "\t<tr><td>4.6</td><td>3.1</td><td>1.5</td><td>0.2</td><td>Iris-setosa</td></tr>\n",
       "\t<tr><td>5.0</td><td>3.6</td><td>1.4</td><td>0.2</td><td>Iris-setosa</td></tr>\n",
       "\t<tr><td>5.4</td><td>3.9</td><td>1.7</td><td>0.4</td><td>Iris-setosa</td></tr>\n",
       "</tbody>\n",
       "</table>\n"
      ],
      "text/latex": [
       "A data.table: 6 × 5\n",
       "\\begin{tabular}{lllll}\n",
       " sepal\\_length & sepal\\_width & petal\\_length & petal\\_width & species\\\\\n",
       " <dbl> & <dbl> & <dbl> & <dbl> & <chr>\\\\\n",
       "\\hline\n",
       "\t 5.1 & 3.5 & 1.4 & 0.2 & Iris-setosa\\\\\n",
       "\t 4.9 & 3.0 & 1.4 & 0.2 & Iris-setosa\\\\\n",
       "\t 4.7 & 3.2 & 1.3 & 0.2 & Iris-setosa\\\\\n",
       "\t 4.6 & 3.1 & 1.5 & 0.2 & Iris-setosa\\\\\n",
       "\t 5.0 & 3.6 & 1.4 & 0.2 & Iris-setosa\\\\\n",
       "\t 5.4 & 3.9 & 1.7 & 0.4 & Iris-setosa\\\\\n",
       "\\end{tabular}\n"
      ],
      "text/markdown": [
       "\n",
       "A data.table: 6 × 5\n",
       "\n",
       "| sepal_length &lt;dbl&gt; | sepal_width &lt;dbl&gt; | petal_length &lt;dbl&gt; | petal_width &lt;dbl&gt; | species &lt;chr&gt; |\n",
       "|---|---|---|---|---|\n",
       "| 5.1 | 3.5 | 1.4 | 0.2 | Iris-setosa |\n",
       "| 4.9 | 3.0 | 1.4 | 0.2 | Iris-setosa |\n",
       "| 4.7 | 3.2 | 1.3 | 0.2 | Iris-setosa |\n",
       "| 4.6 | 3.1 | 1.5 | 0.2 | Iris-setosa |\n",
       "| 5.0 | 3.6 | 1.4 | 0.2 | Iris-setosa |\n",
       "| 5.4 | 3.9 | 1.7 | 0.4 | Iris-setosa |\n",
       "\n"
      ],
      "text/plain": [
       "  sepal_length sepal_width petal_length petal_width species    \n",
       "1 5.1          3.5         1.4          0.2         Iris-setosa\n",
       "2 4.9          3.0         1.4          0.2         Iris-setosa\n",
       "3 4.7          3.2         1.3          0.2         Iris-setosa\n",
       "4 4.6          3.1         1.5          0.2         Iris-setosa\n",
       "5 5.0          3.6         1.4          0.2         Iris-setosa\n",
       "6 5.4          3.9         1.7          0.4         Iris-setosa"
      ]
     },
     "metadata": {},
     "output_type": "display_data"
    }
   ],
   "source": [
    "#One way to approach this is to use the 'pipe operator' and filter from the tidyverse packages.\n",
    "#I'll do the first one for you and want you to repeat this for the other species. \n",
    "#Note that my code assumes you named the dataset iris when you read it in. Adjust the code if needed.\n",
    "setosa <- iris %>% \n",
    "filter(species == \"Iris-setosa\")\n",
    "head(setosa) #I included head(setosa) just to make sure that everything loaded correctly. "
   ]
  },
  {
   "cell_type": "code",
   "execution_count": 4,
   "id": "cf3a1e5c",
   "metadata": {
    "execution": {
     "iopub.execute_input": "2023-11-03T14:10:32.582205Z",
     "iopub.status.busy": "2023-11-03T14:10:32.580530Z",
     "iopub.status.idle": "2023-11-03T14:10:32.641381Z",
     "shell.execute_reply": "2023-11-03T14:10:32.639530Z"
    },
    "papermill": {
     "duration": 0.07224,
     "end_time": "2023-11-03T14:10:32.644566",
     "exception": false,
     "start_time": "2023-11-03T14:10:32.572326",
     "status": "completed"
    },
    "tags": []
   },
   "outputs": [
    {
     "data": {
      "text/html": [
       "5.006"
      ],
      "text/latex": [
       "5.006"
      ],
      "text/markdown": [
       "5.006"
      ],
      "text/plain": [
       "[1] 5.006"
      ]
     },
     "metadata": {},
     "output_type": "display_data"
    },
    {
     "data": {
      "text/html": [
       "5"
      ],
      "text/latex": [
       "5"
      ],
      "text/markdown": [
       "5"
      ],
      "text/plain": [
       "[1] 5"
      ]
     },
     "metadata": {},
     "output_type": "display_data"
    },
    {
     "data": {
      "text/html": [
       "0.352489687213451"
      ],
      "text/latex": [
       "0.352489687213451"
      ],
      "text/markdown": [
       "0.352489687213451"
      ],
      "text/plain": [
       "[1] 0.3524897"
      ]
     },
     "metadata": {},
     "output_type": "display_data"
    },
    {
     "data": {
      "text/html": [
       "<style>\n",
       ".dl-inline {width: auto; margin:0; padding: 0}\n",
       ".dl-inline>dt, .dl-inline>dd {float: none; width: auto; display: inline-block}\n",
       ".dl-inline>dt::after {content: \":\\0020\"; padding-right: .5ex}\n",
       ".dl-inline>dt:not(:first-of-type) {padding-left: .5ex}\n",
       "</style><dl class=dl-inline><dt>0%</dt><dd>4.3</dd><dt>25%</dt><dd>4.8</dd><dt>50%</dt><dd>5</dd><dt>75%</dt><dd>5.2</dd><dt>100%</dt><dd>5.8</dd></dl>\n"
      ],
      "text/latex": [
       "\\begin{description*}\n",
       "\\item[0\\textbackslash{}\\%] 4.3\n",
       "\\item[25\\textbackslash{}\\%] 4.8\n",
       "\\item[50\\textbackslash{}\\%] 5\n",
       "\\item[75\\textbackslash{}\\%] 5.2\n",
       "\\item[100\\textbackslash{}\\%] 5.8\n",
       "\\end{description*}\n"
      ],
      "text/markdown": [
       "0%\n",
       ":   4.325%\n",
       ":   4.850%\n",
       ":   575%\n",
       ":   5.2100%\n",
       ":   5.8\n",
       "\n"
      ],
      "text/plain": [
       "  0%  25%  50%  75% 100% \n",
       " 4.3  4.8  5.0  5.2  5.8 "
      ]
     },
     "metadata": {},
     "output_type": "display_data"
    },
    {
     "data": {
      "text/html": [
       "<style>\n",
       ".dl-inline {width: auto; margin:0; padding: 0}\n",
       ".dl-inline>dt, .dl-inline>dd {float: none; width: auto; display: inline-block}\n",
       ".dl-inline>dt::after {content: \":\\0020\"; padding-right: .5ex}\n",
       ".dl-inline>dt:not(:first-of-type) {padding-left: .5ex}\n",
       "</style><dl class=dl-inline><dt>2.5%</dt><dd>4.4</dd><dt>97.5%</dt><dd>5.7</dd></dl>\n"
      ],
      "text/latex": [
       "\\begin{description*}\n",
       "\\item[2.5\\textbackslash{}\\%] 4.4\n",
       "\\item[97.5\\textbackslash{}\\%] 5.7\n",
       "\\end{description*}\n"
      ],
      "text/markdown": [
       "2.5%\n",
       ":   4.497.5%\n",
       ":   5.7\n",
       "\n"
      ],
      "text/plain": [
       " 2.5% 97.5% \n",
       "  4.4   5.7 "
      ]
     },
     "metadata": {},
     "output_type": "display_data"
    },
    {
     "data": {
      "text/plain": [
       "  sepal_length    sepal_width     petal_length    petal_width   \n",
       " Min.   :4.300   Min.   :2.300   Min.   :1.000   Min.   :0.100  \n",
       " 1st Qu.:4.800   1st Qu.:3.125   1st Qu.:1.400   1st Qu.:0.200  \n",
       " Median :5.000   Median :3.400   Median :1.500   Median :0.200  \n",
       " Mean   :5.006   Mean   :3.418   Mean   :1.464   Mean   :0.244  \n",
       " 3rd Qu.:5.200   3rd Qu.:3.675   3rd Qu.:1.575   3rd Qu.:0.300  \n",
       " Max.   :5.800   Max.   :4.400   Max.   :1.900   Max.   :0.600  \n",
       "   species         \n",
       " Length:50         \n",
       " Class :character  \n",
       " Mode  :character  \n",
       "                   \n",
       "                   \n",
       "                   "
      ]
     },
     "metadata": {},
     "output_type": "display_data"
    }
   ],
   "source": [
    "#If you want to you can also get specific values, using the following lines of code.\n",
    "mean(setosa$sepal_length)\n",
    "median(setosa$sepal_length)\n",
    "sd(setosa$sepal_length)\n",
    "quantile(setosa$sepal_length)\n",
    "\n",
    "#quantile can be used to find other useful quantities using the probs argument, which is probs=c(0.25, 0.5, 0.75) be default.\n",
    "#Try finding the middle 95% of the data as follows.\n",
    "quantile(setosa$sepal_length, probs=c(0.025, 0.975))\n",
    "\n",
    "#Now that we have the data divided into the 3 species, lets compare some summary statistics for the data.\n",
    "#Here's how to get some summary statistics for setosa. Make sure to do the same for the other varieties.\n",
    "summary(setosa)\n",
    "\n"
   ]
  },
  {
   "cell_type": "markdown",
   "id": "d35483b0",
   "metadata": {
    "papermill": {
     "duration": 0.006983,
     "end_time": "2023-11-03T14:10:32.660029",
     "exception": false,
     "start_time": "2023-11-03T14:10:32.653046",
     "status": "completed"
    },
    "tags": []
   },
   "source": [
    "Answer the following questions.\n",
    "Which variety has the largest median sepal length? Which has the \n",
    "\n",
    "Which variety has the largest median sepal width?\n",
    "\n",
    "Which variety has the largest median petal length?\n",
    "\n",
    "Which variety has the largest median petal width?\n",
    "\n",
    "Which variety has the largest standard deviation for petal width?"
   ]
  },
  {
   "cell_type": "markdown",
   "id": "442a165e",
   "metadata": {
    "papermill": {
     "duration": 0.007133,
     "end_time": "2023-11-03T14:10:32.674394",
     "exception": false,
     "start_time": "2023-11-03T14:10:32.667261",
     "status": "completed"
    },
    "tags": []
   },
   "source": [
    "Now, lets go ahead and make some boxplots to better compare the flower species. For now lets just focus in on Petal.Length."
   ]
  },
  {
   "cell_type": "code",
   "execution_count": 5,
   "id": "6a6bc31b",
   "metadata": {
    "execution": {
     "iopub.execute_input": "2023-11-03T14:10:32.693386Z",
     "iopub.status.busy": "2023-11-03T14:10:32.691733Z",
     "iopub.status.idle": "2023-11-03T14:10:32.973782Z",
     "shell.execute_reply": "2023-11-03T14:10:32.942682Z"
    },
    "papermill": {
     "duration": 0.29457,
     "end_time": "2023-11-03T14:10:32.976625",
     "exception": false,
     "start_time": "2023-11-03T14:10:32.682055",
     "status": "completed"
    },
    "tags": []
   },
   "outputs": [
    {
     "data": {
      "image/png": "[encoded data removed]"
     },
     "metadata": {
      "image/png": {
       "height": 420,
       "width": 420
      }
     },
     "output_type": "display_data"
    }
   ],
   "source": [
    "#Here are a couple of boxplots for setosa. Please do the same for the other varieties.\n",
    "#First, I want all of the boxplots to show up together, so I'm going to use par(mfrow)\n",
    "par(mfrow=c(1, 3))\n",
    "\n",
    "boxplot(setosa$petal_length, main=\"Setosa\", ylab=\"Petal.Length\")"
   ]
  },
  {
   "cell_type": "markdown",
   "id": "dc1bbf83",
   "metadata": {
    "papermill": {
     "duration": 0.007933,
     "end_time": "2023-11-03T14:10:32.992119",
     "exception": false,
     "start_time": "2023-11-03T14:10:32.984186",
     "status": "completed"
    },
    "tags": []
   },
   "source": [
    "Edit this text box to add a comparison of the petal lengths of the 3 species, based on what you observe from the boxplots. Make sure to compare the median of each distribution, as well as the spread (IQR and Range)."
   ]
  },
  {
   "cell_type": "code",
   "execution_count": 6,
   "id": "cb4cb8f9",
   "metadata": {
    "execution": {
     "iopub.execute_input": "2023-11-03T14:10:33.011161Z",
     "iopub.status.busy": "2023-11-03T14:10:33.009441Z",
     "iopub.status.idle": "2023-11-03T14:10:33.122714Z",
     "shell.execute_reply": "2023-11-03T14:10:33.120640Z"
    },
    "papermill": {
     "duration": 0.125821,
     "end_time": "2023-11-03T14:10:33.125625",
     "exception": false,
     "start_time": "2023-11-03T14:10:32.999804",
     "status": "completed"
    },
    "tags": []
   },
   "outputs": [
    {
     "data": {
      "image/png": "[encoded data removed]"
     },
     "metadata": {
      "image/png": {
       "height": 420,
       "width": 420
      }
     },
     "output_type": "display_data"
    }
   ],
   "source": [
    "#It would be nice if we could just put all of the boxplots side by side. \n",
    "#Here's one way to do that using the original dataset\n",
    "boxplot(iris$petal_length~iris$species, main=\"Petal Lengths\", xlab=\"Species\", ylab=\"Petal.Length\")"
   ]
  }
 ],
 "metadata": {
  "kernelspec": {
   "display_name": "R",
   "language": "R",
   "name": "ir"
  },
  "language_info": {
   "codemirror_mode": "r",
   "file_extension": ".r",
   "mimetype": "text/x-r-source",
   "name": "R",
   "pygments_lexer": "r",
   "version": "4.0.5"
  },
  "papermill": {
   "default_parameters": {},
   "duration": 5.842471,
   "end_time": "2023-11-03T14:10:33.256034",
   "environment_variables": {},
   "exception": null,
   "input_path": "__notebook__.ipynb",
   "output_path": "__notebook__.ipynb",
   "parameters": {},
   "start_time": "2023-11-03T14:10:27.413563",
   "version": "2.4.0"
  }
 },
 "nbformat": 4,
 "nbformat_minor": 5
}
